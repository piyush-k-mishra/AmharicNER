{
  "nbformat": 4,
  "nbformat_minor": 0,
  "metadata": {
    "colab": {
      "name": "NER_using_pretrained_XLM_RoBERTa.ipynb",
      "provenance": []
    },
    "kernelspec": {
      "name": "python3",
      "display_name": "Python 3"
    },
    "language_info": {
      "name": "python"
    }
  },
  "cells": [
    {
      "cell_type": "markdown",
      "source": [
        "This implementation makes following assumptions:\n",
        "\n",
        "1. Data is present in a folder named `Amharic NER`\n",
        "2. Data is split into three files, namely `train.txt`, `dev.txt` and `test.txt`.\n",
        "3. Each file has only two columns with first row as the column names.\n",
        "4. The column names are `Text` and `Label`.\n",
        "5. Each row is separated by a single space `' '`.\n",
        "\n",
        "Configure the code/data if any assumption is not matched."
      ],
      "metadata": {
        "id": "4y07P8DjXELk"
      }
    },
    {
      "cell_type": "markdown",
      "source": [
        "## Imports"
      ],
      "metadata": {
        "id": "QayxhgAnhhcb"
      }
    },
    {
      "cell_type": "markdown",
      "source": [
        "Install and import all the dependencies"
      ],
      "metadata": {
        "id": "UCyx0IhWabe2"
      }
    },
    {
      "cell_type": "code",
      "source": [
        "!pip install seqeval accelerate datasets transformers"
      ],
      "metadata": {
        "id": "Ry9gQAc6ZurF"
      },
      "execution_count": null,
      "outputs": []
    },
    {
      "cell_type": "code",
      "source": [
        "import numpy as np\n",
        "import pandas as pd\n",
        "\n",
        "from tqdm.auto import tqdm\n",
        "\n",
        "import sklearn\n",
        "\n",
        "from datasets import load_dataset, load_metric, ClassLabel, Dataset, DatasetDict\n",
        "\n",
        "from transformers import Trainer\n",
        "from transformers import AutoTokenizer\n",
        "from transformers import get_scheduler\n",
        "from transformers import TrainingArguments\n",
        "from transformers import DataCollatorForTokenClassification\n",
        "from transformers import AutoModelForTokenClassification\n",
        "\n",
        "import torch\n",
        "from torch.optim import AdamW\n",
        "from torch.utils.data import DataLoader\n",
        "\n",
        "from accelerate import Accelerator"
      ],
      "metadata": {
        "id": "bTLUWnvMczHS"
      },
      "execution_count": null,
      "outputs": []
    },
    {
      "cell_type": "code",
      "execution_count": null,
      "metadata": {
        "id": "lNOccx0pMuyY"
      },
      "outputs": [],
      "source": [
        "import matplotlib.pyplot as plt\n",
        "%matplotlib inline\n",
        "plt.style.use(\"ggplot\")"
      ]
    },
    {
      "cell_type": "markdown",
      "source": [
        "##Data Initialization"
      ],
      "metadata": {
        "id": "u3VNS_hBgzQC"
      }
    },
    {
      "cell_type": "markdown",
      "source": [
        "### Training set"
      ],
      "metadata": {
        "id": "KKG8ybaoaiT1"
      }
    },
    {
      "cell_type": "code",
      "execution_count": null,
      "metadata": {
        "colab": {
          "base_uri": "https://localhost:8080/",
          "height": 242
        },
        "outputId": "e62d5cbb-6299-4616-b784-5a717a953942",
        "id": "8hDQXKSDCczo"
      },
      "outputs": [
        {
          "output_type": "stream",
          "name": "stdout",
          "text": [
            "Shape of train data:  (57781, 2)\n",
            "Index(['Text', 'Label'], dtype='object')\n"
          ]
        },
        {
          "output_type": "execute_result",
          "data": {
            "text/plain": [
              "    Text Label\n",
              "0     ገለ     O\n",
              "1  መሰኻኽር     O\n",
              "2    ሓያሎ     O\n",
              "3   ጠያይት     O\n",
              "4   ክትኮስ     O"
            ],
            "text/html": [
              "\n",
              "  <div id=\"df-5f88ee6a-ef7c-4204-83dc-91824d6670af\">\n",
              "    <div class=\"colab-df-container\">\n",
              "      <div>\n",
              "<style scoped>\n",
              "    .dataframe tbody tr th:only-of-type {\n",
              "        vertical-align: middle;\n",
              "    }\n",
              "\n",
              "    .dataframe tbody tr th {\n",
              "        vertical-align: top;\n",
              "    }\n",
              "\n",
              "    .dataframe thead th {\n",
              "        text-align: right;\n",
              "    }\n",
              "</style>\n",
              "<table border=\"1\" class=\"dataframe\">\n",
              "  <thead>\n",
              "    <tr style=\"text-align: right;\">\n",
              "      <th></th>\n",
              "      <th>Text</th>\n",
              "      <th>Label</th>\n",
              "    </tr>\n",
              "  </thead>\n",
              "  <tbody>\n",
              "    <tr>\n",
              "      <th>0</th>\n",
              "      <td>ገለ</td>\n",
              "      <td>O</td>\n",
              "    </tr>\n",
              "    <tr>\n",
              "      <th>1</th>\n",
              "      <td>መሰኻኽር</td>\n",
              "      <td>O</td>\n",
              "    </tr>\n",
              "    <tr>\n",
              "      <th>2</th>\n",
              "      <td>ሓያሎ</td>\n",
              "      <td>O</td>\n",
              "    </tr>\n",
              "    <tr>\n",
              "      <th>3</th>\n",
              "      <td>ጠያይት</td>\n",
              "      <td>O</td>\n",
              "    </tr>\n",
              "    <tr>\n",
              "      <th>4</th>\n",
              "      <td>ክትኮስ</td>\n",
              "      <td>O</td>\n",
              "    </tr>\n",
              "  </tbody>\n",
              "</table>\n",
              "</div>\n",
              "      <button class=\"colab-df-convert\" onclick=\"convertToInteractive('df-5f88ee6a-ef7c-4204-83dc-91824d6670af')\"\n",
              "              title=\"Convert this dataframe to an interactive table.\"\n",
              "              style=\"display:none;\">\n",
              "        \n",
              "  <svg xmlns=\"http://www.w3.org/2000/svg\" height=\"24px\"viewBox=\"0 0 24 24\"\n",
              "       width=\"24px\">\n",
              "    <path d=\"M0 0h24v24H0V0z\" fill=\"none\"/>\n",
              "    <path d=\"M18.56 5.44l.94 2.06.94-2.06 2.06-.94-2.06-.94-.94-2.06-.94 2.06-2.06.94zm-11 1L8.5 8.5l.94-2.06 2.06-.94-2.06-.94L8.5 2.5l-.94 2.06-2.06.94zm10 10l.94 2.06.94-2.06 2.06-.94-2.06-.94-.94-2.06-.94 2.06-2.06.94z\"/><path d=\"M17.41 7.96l-1.37-1.37c-.4-.4-.92-.59-1.43-.59-.52 0-1.04.2-1.43.59L10.3 9.45l-7.72 7.72c-.78.78-.78 2.05 0 2.83L4 21.41c.39.39.9.59 1.41.59.51 0 1.02-.2 1.41-.59l7.78-7.78 2.81-2.81c.8-.78.8-2.07 0-2.86zM5.41 20L4 18.59l7.72-7.72 1.47 1.35L5.41 20z\"/>\n",
              "  </svg>\n",
              "      </button>\n",
              "      \n",
              "  <style>\n",
              "    .colab-df-container {\n",
              "      display:flex;\n",
              "      flex-wrap:wrap;\n",
              "      gap: 12px;\n",
              "    }\n",
              "\n",
              "    .colab-df-convert {\n",
              "      background-color: #E8F0FE;\n",
              "      border: none;\n",
              "      border-radius: 50%;\n",
              "      cursor: pointer;\n",
              "      display: none;\n",
              "      fill: #1967D2;\n",
              "      height: 32px;\n",
              "      padding: 0 0 0 0;\n",
              "      width: 32px;\n",
              "    }\n",
              "\n",
              "    .colab-df-convert:hover {\n",
              "      background-color: #E2EBFA;\n",
              "      box-shadow: 0px 1px 2px rgba(60, 64, 67, 0.3), 0px 1px 3px 1px rgba(60, 64, 67, 0.15);\n",
              "      fill: #174EA6;\n",
              "    }\n",
              "\n",
              "    [theme=dark] .colab-df-convert {\n",
              "      background-color: #3B4455;\n",
              "      fill: #D2E3FC;\n",
              "    }\n",
              "\n",
              "    [theme=dark] .colab-df-convert:hover {\n",
              "      background-color: #434B5C;\n",
              "      box-shadow: 0px 1px 3px 1px rgba(0, 0, 0, 0.15);\n",
              "      filter: drop-shadow(0px 1px 2px rgba(0, 0, 0, 0.3));\n",
              "      fill: #FFFFFF;\n",
              "    }\n",
              "  </style>\n",
              "\n",
              "      <script>\n",
              "        const buttonEl =\n",
              "          document.querySelector('#df-5f88ee6a-ef7c-4204-83dc-91824d6670af button.colab-df-convert');\n",
              "        buttonEl.style.display =\n",
              "          google.colab.kernel.accessAllowed ? 'block' : 'none';\n",
              "\n",
              "        async function convertToInteractive(key) {\n",
              "          const element = document.querySelector('#df-5f88ee6a-ef7c-4204-83dc-91824d6670af');\n",
              "          const dataTable =\n",
              "            await google.colab.kernel.invokeFunction('convertToInteractive',\n",
              "                                                     [key], {});\n",
              "          if (!dataTable) return;\n",
              "\n",
              "          const docLinkHtml = 'Like what you see? Visit the ' +\n",
              "            '<a target=\"_blank\" href=https://colab.research.google.com/notebooks/data_table.ipynb>data table notebook</a>'\n",
              "            + ' to learn more about interactive tables.';\n",
              "          element.innerHTML = '';\n",
              "          dataTable['output_type'] = 'display_data';\n",
              "          await google.colab.output.renderOutput(dataTable, element);\n",
              "          const docLink = document.createElement('div');\n",
              "          docLink.innerHTML = docLinkHtml;\n",
              "          element.appendChild(docLink);\n",
              "        }\n",
              "      </script>\n",
              "    </div>\n",
              "  </div>\n",
              "  "
            ]
          },
          "metadata": {},
          "execution_count": 6
        }
      ],
      "source": [
        "train_df = pd.read_csv('./Amharic NER/train.txt', sep=\" \", header='infer', on_bad_lines='skip')\n",
        "print('Shape of train data: ', train_df.shape)\n",
        "print(train_df.columns)\n",
        "train_df.head()"
      ]
    },
    {
      "cell_type": "code",
      "execution_count": null,
      "metadata": {
        "id": "lxEJTLhDCczo"
      },
      "outputs": [],
      "source": [
        "train_sentences = []\n",
        "train_targets = []\n",
        "\n",
        "x, y = [], []\n",
        "for idx, row in train_df.iterrows():\n",
        "  if row['Text'] in ['!','?','።', '::', '፡፡', '፥']:\n",
        "    train_sentences.append(x)\n",
        "    train_targets.append(y)\n",
        "    x, y = [], []\n",
        "  else:\n",
        "    x.append(row['Text'])\n",
        "    y.append(row['Label'])"
      ]
    },
    {
      "cell_type": "code",
      "source": [
        "train_dataset = Dataset.from_pandas(pd.DataFrame({'text': train_sentences, 'label': train_targets}))"
      ],
      "metadata": {
        "id": "oSYI9xu6Cczo"
      },
      "execution_count": null,
      "outputs": []
    },
    {
      "cell_type": "code",
      "source": [
        "text_lens = list(map(lambda x: len(x), train_dataset['text']))"
      ],
      "metadata": {
        "id": "UURGIm6ZV6Hk"
      },
      "execution_count": null,
      "outputs": []
    },
    {
      "cell_type": "code",
      "source": [
        "np.median(text_lens), np.mean(text_lens), np.quantile(text_lens, 0.99)"
      ],
      "metadata": {
        "colab": {
          "base_uri": "https://localhost:8080/"
        },
        "id": "hYCTRw6tQu9Q",
        "outputId": "8cddeff8-dc17-4dd5-be96-6404bed8219d"
      },
      "execution_count": null,
      "outputs": [
        {
          "output_type": "execute_result",
          "data": {
            "text/plain": [
              "(17.0, 18.057058047493403, 40.0)"
            ]
          },
          "metadata": {},
          "execution_count": 10
        }
      ]
    },
    {
      "cell_type": "code",
      "source": [
        "max_len = np.quantile(text_lens, 0.99)"
      ],
      "metadata": {
        "id": "JE4ivQ4fZgud"
      },
      "execution_count": null,
      "outputs": []
    },
    {
      "cell_type": "code",
      "source": [
        "plt.plot(text_lens)"
      ],
      "metadata": {
        "colab": {
          "base_uri": "https://localhost:8080/",
          "height": 283
        },
        "id": "OIfd0JlUQXQR",
        "outputId": "8543c6cc-321b-49c0-e4bc-9dddb34734e3"
      },
      "execution_count": null,
      "outputs": [
        {
          "output_type": "execute_result",
          "data": {
            "text/plain": [
              "[<matplotlib.lines.Line2D at 0x7fde84eb0c90>]"
            ]
          },
          "metadata": {},
          "execution_count": 11
        },
        {
          "output_type": "display_data",
          "data": {
            "text/plain": [
              "<Figure size 432x288 with 1 Axes>"
            ],
            "image/png": "[encoded data removed]"
          },
          "metadata": {}
        }
      ]
    },
    {
      "cell_type": "markdown",
      "source": [
        "### Devlopment set"
      ],
      "metadata": {
        "id": "NmLBRC-PanE1"
      }
    },
    {
      "cell_type": "code",
      "execution_count": null,
      "metadata": {
        "colab": {
          "base_uri": "https://localhost:8080/"
        },
        "outputId": "1302ad0d-08b7-440d-e70e-33d4a7033336",
        "id": "yyaQEbp2Cczp"
      },
      "outputs": [
        {
          "output_type": "stream",
          "name": "stdout",
          "text": [
            "Shape of dev data:  (6878, 2)\n"
          ]
        }
      ],
      "source": [
        "dev_df = pd.read_csv('./Amharic NER/dev.txt', sep=\" \", header='infer', on_bad_lines='skip')\n",
        "print('Shape of dev data: ', dev_df.shape)"
      ]
    },
    {
      "cell_type": "code",
      "execution_count": null,
      "metadata": {
        "id": "cD3yHlc9Cczp"
      },
      "outputs": [],
      "source": [
        "dev_sentences = []\n",
        "dev_targets = []\n",
        "\n",
        "x, y = [], []\n",
        "for idx, row in dev_df.iterrows():\n",
        "  if row['Text'] in ['!','?','።', '::', '፡፡', '፥']:\n",
        "    dev_sentences.append(x)\n",
        "    dev_targets.append(y)\n",
        "    x, y = [], []\n",
        "  else:\n",
        "    x.append(row['Text'].lower())\n",
        "    y.append(row['Label'])"
      ]
    },
    {
      "cell_type": "code",
      "source": [
        "dev_dataset = Dataset.from_pandas(pd.DataFrame({'text': dev_sentences, 'label': dev_targets}))"
      ],
      "metadata": {
        "id": "h26qOAqiCczp"
      },
      "execution_count": null,
      "outputs": []
    },
    {
      "cell_type": "code",
      "source": [
        "text_lens = list(map(lambda x: len(x), dev_dataset['text']))"
      ],
      "metadata": {
        "id": "9uvXew7xRlKM"
      },
      "execution_count": null,
      "outputs": []
    },
    {
      "cell_type": "code",
      "source": [
        "np.median(text_lens), np.mean(text_lens), np.quantile(text_lens, 0.99)"
      ],
      "metadata": {
        "colab": {
          "base_uri": "https://localhost:8080/"
        },
        "outputId": "ea0624e1-2ad2-4715-d885-e2086b085556",
        "id": "ygs228BpRlKM"
      },
      "execution_count": null,
      "outputs": [
        {
          "output_type": "execute_result",
          "data": {
            "text/plain": [
              "(16.0, 17.341333333333335, 37.0)"
            ]
          },
          "metadata": {},
          "execution_count": 16
        }
      ]
    },
    {
      "cell_type": "code",
      "source": [
        "plt.plot(text_lens)"
      ],
      "metadata": {
        "colab": {
          "base_uri": "https://localhost:8080/",
          "height": 283
        },
        "outputId": "d53e3a67-9260-4c97-b475-29c8c44456af",
        "id": "M7MdJhUeRlKN"
      },
      "execution_count": null,
      "outputs": [
        {
          "output_type": "execute_result",
          "data": {
            "text/plain": [
              "[<matplotlib.lines.Line2D at 0x7fde8240b7d0>]"
            ]
          },
          "metadata": {},
          "execution_count": 17
        },
        {
          "output_type": "display_data",
          "data": {
            "text/plain": [
              "<Figure size 432x288 with 1 Axes>"
            ],
            "image/png": "[encoded data removed]"
          },
          "metadata": {}
        }
      ]
    },
    {
      "cell_type": "markdown",
      "source": [
        "### Test set"
      ],
      "metadata": {
        "id": "CgXC5u_lau6j"
      }
    },
    {
      "cell_type": "code",
      "execution_count": null,
      "metadata": {
        "colab": {
          "base_uri": "https://localhost:8080/"
        },
        "outputId": "ff8788f5-8b48-4c53-e1e6-fcb2d79ce916",
        "id": "_87ECWV6Cczp"
      },
      "outputs": [
        {
          "output_type": "stream",
          "name": "stdout",
          "text": [
            "Shape of test data:  (6922, 2)\n"
          ]
        }
      ],
      "source": [
        "test_df = pd.read_csv('./Amharic NER/test.txt', sep=\" \", header='infer', on_bad_lines='skip')\n",
        "print('Shape of test data: ', test_df.shape)"
      ]
    },
    {
      "cell_type": "code",
      "execution_count": null,
      "metadata": {
        "id": "MuiHW5yhCczp"
      },
      "outputs": [],
      "source": [
        "test_sentences = []\n",
        "test_targets = []\n",
        "\n",
        "x, y = [], []\n",
        "for idx, row in test_df.iterrows():\n",
        "  if row['Text'] in ['!','?','።','::','፡፡','፥']:\n",
        "    test_sentences.append(x)\n",
        "    test_targets.append(y)\n",
        "    x, y = [], []\n",
        "  else:\n",
        "    x.append(row['Text'].lower())\n",
        "    y.append(row['Label'])"
      ]
    },
    {
      "cell_type": "code",
      "source": [
        "test_dataset = Dataset.from_pandas(pd.DataFrame({'text': test_sentences, 'label': test_targets}))"
      ],
      "metadata": {
        "id": "nmxMqFCwCczp"
      },
      "execution_count": null,
      "outputs": []
    },
    {
      "cell_type": "code",
      "source": [
        "dataset_dict = {\n",
        "    'train': train_dataset,\n",
        "    'dev': dev_dataset,\n",
        "    'test': test_dataset\n",
        "}"
      ],
      "metadata": {
        "id": "91KAeWJqCczp"
      },
      "execution_count": null,
      "outputs": []
    },
    {
      "cell_type": "code",
      "source": [
        "dataset = DatasetDict(dataset_dict)\n",
        "print(dataset)"
      ],
      "metadata": {
        "colab": {
          "base_uri": "https://localhost:8080/"
        },
        "id": "4z4xdTzCCczp",
        "outputId": "8ca36515-ca89-407d-d4b8-b43e215e3b16"
      },
      "execution_count": null,
      "outputs": [
        {
          "output_type": "stream",
          "name": "stdout",
          "text": [
            "DatasetDict({\n",
            "    train: Dataset({\n",
            "        features: ['text', 'label'],\n",
            "        num_rows: 3032\n",
            "    })\n",
            "    dev: Dataset({\n",
            "        features: ['text', 'label'],\n",
            "        num_rows: 375\n",
            "    })\n",
            "    test: Dataset({\n",
            "        features: ['text', 'label'],\n",
            "        num_rows: 356\n",
            "    })\n",
            "})\n"
          ]
        }
      ]
    },
    {
      "cell_type": "markdown",
      "source": [
        "## Tokenization and Alignment"
      ],
      "metadata": {
        "id": "B3E_VdZ5g5d9"
      }
    },
    {
      "cell_type": "markdown",
      "source": [
        "Get the labels from the training dataframe."
      ],
      "metadata": {
        "id": "aSlhmN_-a_hs"
      }
    },
    {
      "cell_type": "code",
      "source": [
        "print(\"dataset text: \", dataset[\"train\"][0][\"text\"])\n",
        "\n",
        "ner_feature = ClassLabel(num_classes=len(train_df['Label'].unique()), names=train_df['Label'].unique())\n",
        "print(\"ner_feature: \", ner_feature)\n",
        "\n",
        "label_names = ner_feature.names\n",
        "print(\"label_names: \", label_names)\n",
        "\n",
        "words = dataset[\"train\"][0][\"text\"]\n",
        "labels = dataset[\"train\"][0][\"label\"]"
      ],
      "metadata": {
        "colab": {
          "base_uri": "https://localhost:8080/"
        },
        "id": "acZUHFeqp0Je",
        "outputId": "a7abdcf9-292f-4a2d-f852-b8964a14feb8"
      },
      "execution_count": null,
      "outputs": [
        {
          "output_type": "stream",
          "name": "stdout",
          "text": [
            "dataset text:  ['ገለ', 'መሰኻኽር', 'ሓያሎ', 'ጠያይት', 'ክትኮስ', 'ከምዝሰምዑ', 'ክገለጹ', 'እንከለዉ', 'ሓደ', 'ናይ', 'ዓይኒ', 'ምስክር', 'ድማ', 'ኦቶማቲክ', 'ብረት', 'ዝሓዘ', 'ሰብ', 'ክትኩስ', 'ከምዝራኣየ', 'ተዛሪቡ']\n",
            "ner_feature:  ClassLabel(num_classes=9, names=array(['O', 'B-LOC', 'B-PER', 'I-PER', 'B-DATE', 'I-DATE', 'B-ORG',\n",
            "       'I-LOC', 'I-ORG'], dtype=object), id=None)\n",
            "label_names:  ['O' 'B-LOC' 'B-PER' 'I-PER' 'B-DATE' 'I-DATE' 'B-ORG' 'I-LOC' 'I-ORG']\n"
          ]
        }
      ]
    },
    {
      "cell_type": "code",
      "source": [
        "id2label = {str(i): label for i, label in enumerate(label_names)}\n",
        "label2id = {v: k for k, v in id2label.items()}"
      ],
      "metadata": {
        "id": "UWp-5dpy0aQ1"
      },
      "execution_count": null,
      "outputs": []
    },
    {
      "cell_type": "code",
      "source": [
        "line1 = \"\"\n",
        "line2 = \"\"\n",
        "for word, label in zip(words, labels):\n",
        "  full_label = label\n",
        "  max_length = max(len(word), len(full_label))\n",
        "  line1 += word + \" \" * (max_length - len(word) + 1)\n",
        "  line2 += full_label + \" \" * (max_length - len(full_label) + 1)\n",
        "\n",
        "print(\"line1: \", line1)\n",
        "print(\"line2: \", line2)"
      ],
      "metadata": {
        "colab": {
          "base_uri": "https://localhost:8080/"
        },
        "id": "runVXfb6qJBN",
        "outputId": "7c7d0f53-aadd-4db7-bc51-b9472009ab72"
      },
      "execution_count": null,
      "outputs": [
        {
          "output_type": "stream",
          "name": "stdout",
          "text": [
            "line1:  ገለ መሰኻኽር ሓያሎ ጠያይት ክትኮስ ከምዝሰምዑ ክገለጹ እንከለዉ ሓደ ናይ ዓይኒ ምስክር ድማ ኦቶማቲክ ብረት ዝሓዘ ሰብ ክትኩስ ከምዝራኣየ ተዛሪቡ \n",
            "line2:  O  O     O   O    O    O      O    O     O  O  O   O    O  O     O   O   O  O    O      O    \n"
          ]
        }
      ]
    },
    {
      "cell_type": "markdown",
      "source": [
        "Load tokenizer from Huggingface."
      ],
      "metadata": {
        "id": "1xbiSArdbHc_"
      }
    },
    {
      "cell_type": "code",
      "source": [
        "model_checkpoint = \"mbeukman/xlm-roberta-base-finetuned-ner-amharic\"\n",
        "tokenizer = AutoTokenizer.from_pretrained(model_checkpoint, add_prefix_space=True)\n",
        "\n",
        "print(\"tokenizer.is_fast: \", tokenizer.is_fast)"
      ],
      "metadata": {
        "colab": {
          "base_uri": "https://localhost:8080/",
          "height": 163,
          "referenced_widgets": [
            "9ca9af27e4e04b228447aa088c87d01a",
            "8070282ce0534bb5b028f0becd4c5de1",
            "c5b109de42ca4f7b9f1cfe0329fa847a",
            "ddcf4bd59f124a1499e99ee55f16e007",
            "85e2923146de47259faa8e84fc6bdd72",
            "68beaa99b8b64ae59a9b242ad99f4fef",
            "0901e85928794a118ff276d98b76ecad",
            "49ad294aaa5748918cd83749b7b3a3cc",
            "f240f3b1193246d09e93970e771c7f9f",
            "b2280820da454f94a926ee8ffd272d08",
            "56c4613d1f5543d2ba8c9f572f2aec9e",
            "ffc5c5f1aa054a9e83dc33167a90a5c8",
            "6140432bfdee499a987e454663c31bd7",
            "4aa31c6b450d4968b77b3a9a03ec7a8c",
            "f08f39b7f797493db92663ae11f5b736",
            "a38d6f3060bb44b08c0eb4d725213456",
            "fa0b50636ac3495c82789e9def9b86ac",
            "fe2694d986cc4997ac6196934b2acc56",
            "b0f2535f6503460a83eb3f73bef1d878",
            "8d32dc1c165c46bc83c3f13fc6c9922e",
            "868ff8c5cece40c9a834cace6d98097a",
            "9c9405856337495d8b01fb555722bf29",
            "9f9ab720cfaf4369a21e27fad37561fa",
            "1f3d1258987a449ba35a973f37476eb8",
            "09d8b2f363f74d84a66b8544b8cf51f8",
            "415eb3ef20044951ba02f62a2bc2a5c5",
            "eaa7de19d8eb4f35849759fd46831a48",
            "41b6ccc384de4162996a8566ad500236",
            "6f168ac5273f4335ade26c26a85dfd21",
            "3af55ec38bad4bc58be1aa2b134a7d06",
            "d6c51325af384f5487e2ec1459fdfae5",
            "36a1c2378ba646e99c7813e0b6079599",
            "7265605e86524a34bfabc739c8c76c0e",
            "6e275f94e9b84e8dba0929761808dc7c",
            "f68b4f63af9843fa9a93fc637c8cd6b7",
            "a3e4748436674b5f91aa4bf21af1963c",
            "e960996a30c742dfaae3d5ba8ed43c5b",
            "5fe6e2fb8540400899919e15bb14c2c2",
            "3cb0c445fcdc44668287b6036e252ad1",
            "077ceb768dca4f20a39952a0d98f5cb0",
            "625e089fb20c49e1acfc39d0ee1cbbe3",
            "d6b37bbeffc443d3935d6f5fba9370ea",
            "1db9027578574b698832305553e1524d",
            "f926b83478654c14ba3fdd4188d07d0c"
          ]
        },
        "id": "B6KVEB8srCyv",
        "outputId": "477c9d5f-5efd-4061-dc26-bdb47134a931"
      },
      "execution_count": null,
      "outputs": [
        {
          "output_type": "display_data",
          "data": {
            "text/plain": [
              "Downloading:   0%|          | 0.00/398 [00:00<?, ?B/s]"
            ],
            "application/vnd.jupyter.widget-view+json": {
              "version_major": 2,
              "version_minor": 0,
              "model_id": "9ca9af27e4e04b228447aa088c87d01a"
            }
          },
          "metadata": {}
        },
        {
          "output_type": "display_data",
          "data": {
            "text/plain": [
              "Downloading:   0%|          | 0.00/4.83M [00:00<?, ?B/s]"
            ],
            "application/vnd.jupyter.widget-view+json": {
              "version_major": 2,
              "version_minor": 0,
              "model_id": "ffc5c5f1aa054a9e83dc33167a90a5c8"
            }
          },
          "metadata": {}
        },
        {
          "output_type": "display_data",
          "data": {
            "text/plain": [
              "Downloading:   0%|          | 0.00/8.66M [00:00<?, ?B/s]"
            ],
            "application/vnd.jupyter.widget-view+json": {
              "version_major": 2,
              "version_minor": 0,
              "model_id": "9f9ab720cfaf4369a21e27fad37561fa"
            }
          },
          "metadata": {}
        },
        {
          "output_type": "display_data",
          "data": {
            "text/plain": [
              "Downloading:   0%|          | 0.00/239 [00:00<?, ?B/s]"
            ],
            "application/vnd.jupyter.widget-view+json": {
              "version_major": 2,
              "version_minor": 0,
              "model_id": "6e275f94e9b84e8dba0929761808dc7c"
            }
          },
          "metadata": {}
        },
        {
          "output_type": "stream",
          "name": "stdout",
          "text": [
            "tokenizer.is_fast:  True\n"
          ]
        }
      ]
    },
    {
      "cell_type": "code",
      "source": [
        "inputs = tokenizer(dataset[\"train\"][0][\"text\"], is_split_into_words=True)\n",
        "print(\"inputs.tokens: \", inputs.tokens())\n",
        "\n",
        "print(\"inputs.word_ids: \", inputs.word_ids())"
      ],
      "metadata": {
        "colab": {
          "base_uri": "https://localhost:8080/"
        },
        "id": "Pp0qzDhvrOXo",
        "outputId": "173054d5-2a02-4323-e2d9-9aa315c5df5a"
      },
      "execution_count": null,
      "outputs": [
        {
          "output_type": "stream",
          "name": "stdout",
          "text": [
            "inputs.tokens:  ['<s>', '▁', 'ገለ', '▁መሰ', 'ኻ', 'ኽ', 'ር', '▁ሓ', 'ያ', 'ሎ', '▁ጠ', 'ያ', 'ይት', '▁', 'ክት', 'ኮ', 'ስ', '▁ከም', 'ዝ', 'ሰ', 'ም', 'ዑ', '▁ክ', 'ገለጹ', '▁እን', 'ከ', 'ለዉ', '▁ሓ', 'ደ', '▁', 'ናይ', '▁', 'ዓይ', 'ኒ', '▁ምስ', 'ክር', '▁ድ', 'ማ', '▁ኦ', 'ቶ', 'ማ', 'ቲክ', '▁', 'ብረት', '▁ዝ', 'ሓ', 'ዘ', '▁', 'ሰብ', '▁', 'ክት', 'ኩ', 'ስ', '▁ከም', 'ዝ', 'ራ', 'ኣ', 'የ', '▁ተ', 'ዛ', 'ሪ', 'ቡ', '</s>']\n",
            "inputs.word_ids:  [None, 0, 0, 1, 1, 1, 1, 2, 2, 2, 3, 3, 3, 4, 4, 4, 4, 5, 5, 5, 5, 5, 6, 6, 7, 7, 7, 8, 8, 9, 9, 10, 10, 10, 11, 11, 12, 12, 13, 13, 13, 13, 14, 14, 15, 15, 15, 16, 16, 17, 17, 17, 17, 18, 18, 18, 18, 18, 19, 19, 19, 19, None]\n"
          ]
        }
      ]
    },
    {
      "cell_type": "markdown",
      "source": [
        "Utility function to align labels with the word ids."
      ],
      "metadata": {
        "id": "CVZGT4zhbTLo"
      }
    },
    {
      "cell_type": "code",
      "source": [
        "def align_labels_with_tokens(labels, word_ids):\n",
        "    new_labels = []\n",
        "    current_word = None\n",
        "    for word_id in word_ids:\n",
        "        if word_id != current_word:\n",
        "            # Start of a new word!\n",
        "            current_word = word_id\n",
        "            label = -100 if word_id is None else ner_feature.str2int(labels[word_id])\n",
        "            new_labels.append(label)\n",
        "        elif word_id is None:\n",
        "            # Special token\n",
        "            new_labels.append(-100)\n",
        "        else:\n",
        "            # Same word as previous token\n",
        "            label = ner_feature.str2int(labels[word_id])\n",
        "            # If the label is B-XXX we change it to I-XXX\n",
        "            if label % 2 == 1:\n",
        "                label += 1\n",
        "            new_labels.append(label)\n",
        "\n",
        "    return new_labels"
      ],
      "metadata": {
        "id": "z6f6Z2eorkOP"
      },
      "execution_count": null,
      "outputs": []
    },
    {
      "cell_type": "code",
      "source": [
        "labels = dataset[\"train\"][0][\"label\"]\n",
        "word_ids = inputs.word_ids()\n",
        "print(\"labels: \", labels)\n",
        "print(\"Aligned labels: \", align_labels_with_tokens(labels, word_ids))"
      ],
      "metadata": {
        "colab": {
          "base_uri": "https://localhost:8080/"
        },
        "id": "mSqHJbEvr3Iz",
        "outputId": "76249f99-18ba-4431-fc83-0ace95643364"
      },
      "execution_count": null,
      "outputs": [
        {
          "output_type": "stream",
          "name": "stdout",
          "text": [
            "labels:  ['O', 'O', 'O', 'O', 'O', 'O', 'O', 'O', 'O', 'O', 'O', 'O', 'O', 'O', 'O', 'O', 'O', 'O', 'O', 'O']\n",
            "Aligned labels:  [-100, 0, 0, 0, 0, 0, 0, 0, 0, 0, 0, 0, 0, 0, 0, 0, 0, 0, 0, 0, 0, 0, 0, 0, 0, 0, 0, 0, 0, 0, 0, 0, 0, 0, 0, 0, 0, 0, 0, 0, 0, 0, 0, 0, 0, 0, 0, 0, 0, 0, 0, 0, 0, 0, 0, 0, 0, 0, 0, 0, 0, 0, -100]\n"
          ]
        }
      ]
    },
    {
      "cell_type": "code",
      "source": [
        "def tokenize_and_align_labels(examples):\n",
        "    tokenized_inputs = tokenizer(\n",
        "        examples[\"text\"], truncation=True, is_split_into_words=True, max_length=max_len\n",
        "    )\n",
        "    all_labels = examples[\"label\"]\n",
        "    new_labels = []\n",
        "    for i, labels in enumerate(all_labels):\n",
        "        word_ids = tokenized_inputs.word_ids(i)\n",
        "        new_labels.append(align_labels_with_tokens(labels, word_ids))\n",
        "\n",
        "    tokenized_inputs[\"labels\"] = new_labels\n",
        "    return tokenized_inputs"
      ],
      "metadata": {
        "id": "nVriq_AJsDg4"
      },
      "execution_count": null,
      "outputs": []
    },
    {
      "cell_type": "code",
      "source": [
        "tokenized_datasets = dataset.map(\n",
        "    tokenize_and_align_labels,\n",
        "    batched=True,\n",
        "    remove_columns=dataset[\"train\"].column_names,\n",
        ")"
      ],
      "metadata": {
        "colab": {
          "base_uri": "https://localhost:8080/",
          "height": 113,
          "referenced_widgets": [
            "fe90e9424ee0447e90d933882282fb88",
            "64622ff66d874351871cc2aee68b641e",
            "115b138769bb4993beba9c045c98d795",
            "a7840f80489b48d7995ba908cade6b1f",
            "3b4ff40e36ad4dfeab9204f59e920a16",
            "86e3fe2668c94c199483e01c5fbb5f88",
            "80dbb02f698640d8bbd53902ef556bd3",
            "bdecd3b03d63479a90a8147ddda5b501",
            "390ac0e4cf5542b89d4cb4301ec85be9",
            "18d0b20233744e698f7a338273143008",
            "bd5ac3d0133241759756115fb8008208",
            "b19b13f8935b414d848961925410d143",
            "4aaf5fd3931d4047bdab19383e2bb423",
            "f01d7bdbe62c4bb0a065d53a676f9691",
            "47deefe18dc048ec8a86af5aad46693b",
            "92ee8a0ada6e432a9e98d7b1197d1057",
            "844203076761488d85c1181bda764981",
            "0ea7a3ed982249c1b44aabb555ff0bab",
            "b185314aca6d42d0a255931a1ba7adf8",
            "23e3840588f940369cbd607b670cef63",
            "c6b660d4132d4e7082c859bdcf06ebd5",
            "9920bce4ccf544b0ab0f1075725de89b",
            "611d3d304b9f4fbea6a848bd67cc3408",
            "6fdf5dec75f948f389ed34f9d8b8e715",
            "892a6768e15d4f31b3082d04dee229fc",
            "61e9884c50754eb98371bedd5f9494a7",
            "307ea91aff61441d8ea7f1980ed6459d",
            "4b8b96a3aee243358d264baf0f8f0190",
            "7e585c45dbdd4dfdb2b9c19678e718c8",
            "36696d1a77d144e89260e438b7231f10",
            "f57a4c6e03d8491a82c1e1430421fcc3",
            "44be5e95e23a43b4a6b8bcfe85a2fb14",
            "51407afae567475289700b45a8ac9b63"
          ]
        },
        "id": "81SMFgafsRuL",
        "outputId": "e1173193-e646-426c-ef29-d47b8b297fdb"
      },
      "execution_count": null,
      "outputs": [
        {
          "output_type": "display_data",
          "data": {
            "text/plain": [
              "  0%|          | 0/4 [00:00<?, ?ba/s]"
            ],
            "application/vnd.jupyter.widget-view+json": {
              "version_major": 2,
              "version_minor": 0,
              "model_id": "fe90e9424ee0447e90d933882282fb88"
            }
          },
          "metadata": {}
        },
        {
          "output_type": "display_data",
          "data": {
            "text/plain": [
              "  0%|          | 0/1 [00:00<?, ?ba/s]"
            ],
            "application/vnd.jupyter.widget-view+json": {
              "version_major": 2,
              "version_minor": 0,
              "model_id": "b19b13f8935b414d848961925410d143"
            }
          },
          "metadata": {}
        },
        {
          "output_type": "display_data",
          "data": {
            "text/plain": [
              "  0%|          | 0/1 [00:00<?, ?ba/s]"
            ],
            "application/vnd.jupyter.widget-view+json": {
              "version_major": 2,
              "version_minor": 0,
              "model_id": "611d3d304b9f4fbea6a848bd67cc3408"
            }
          },
          "metadata": {}
        }
      ]
    },
    {
      "cell_type": "code",
      "source": [
        "data_collator = DataCollatorForTokenClassification(tokenizer=tokenizer)\n",
        "\n",
        "batch = data_collator([tokenized_datasets[\"train\"][i] for i in range(2)])\n",
        "print(\"Collated batch labels: \", batch[\"labels\"])"
      ],
      "metadata": {
        "colab": {
          "base_uri": "https://localhost:8080/"
        },
        "id": "vFuZX54ptpug",
        "outputId": "0c4e3739-e460-4b7f-a202-ed3601e9c17a"
      },
      "execution_count": null,
      "outputs": [
        {
          "output_type": "stream",
          "name": "stdout",
          "text": [
            "Collated batch labels:  tensor([[-100,    0,    0,    0,    0,    0,    0,    0,    0,    0,    0,    0,\n",
            "            0,    0,    0,    0,    0,    0,    0,    0,    0,    0,    0,    0,\n",
            "            0,    0,    0,    0,    0,    0,    0,    0,    0,    0,    0,    0,\n",
            "            0,    0,    0, -100],\n",
            "        [-100,    0,    0,    0,    0,    1,    2,    2,    2,    2,    2,    0,\n",
            "            0,    0,    0,    0,    0,    0,    0,    0,    0,    0,    0,    0,\n",
            "            0,    0,    0,    0,    0,    0,    0,    0,    0,    0,    0,    0,\n",
            "            0,    0,    0, -100]])\n"
          ]
        }
      ]
    },
    {
      "cell_type": "code",
      "source": [
        "for i in range(2):\n",
        "    print(tokenized_datasets[\"train\"][i][\"labels\"])"
      ],
      "metadata": {
        "colab": {
          "base_uri": "https://localhost:8080/"
        },
        "id": "_hQcjVEbtxS7",
        "outputId": "9ced609a-92af-4c07-d8e3-cc4a3ef53909"
      },
      "execution_count": null,
      "outputs": [
        {
          "output_type": "stream",
          "name": "stdout",
          "text": [
            "[-100, 0, 0, 0, 0, 0, 0, 0, 0, 0, 0, 0, 0, 0, 0, 0, 0, 0, 0, 0, 0, 0, 0, 0, 0, 0, 0, 0, 0, 0, 0, 0, 0, 0, 0, 0, 0, 0, 0, -100]\n",
            "[-100, 0, 0, 0, 0, 1, 2, 2, 2, 2, 2, 0, 0, 0, 0, 0, 0, 0, 0, 0, 0, 0, 0, 0, 0, 0, 0, 0, 0, 0, 0, 0, 0, 0, 0, 0, 0, 0, 0, -100]\n"
          ]
        }
      ]
    },
    {
      "cell_type": "markdown",
      "source": [
        "## Metric initialization"
      ],
      "metadata": {
        "id": "nedjGF98hCFE"
      }
    },
    {
      "cell_type": "markdown",
      "source": [
        "For training"
      ],
      "metadata": {
        "id": "P9oaDZDscL8j"
      }
    },
    {
      "cell_type": "code",
      "source": [
        "metric = load_metric(\"seqeval\")\n",
        "\n",
        "labels = dataset[\"train\"][1000][\"label\"]\n",
        "print(\"labels: \", labels)"
      ],
      "metadata": {
        "colab": {
          "base_uri": "https://localhost:8080/",
          "height": 87,
          "referenced_widgets": [
            "3d88ce2e68054a3093f11571adf3bc99",
            "56df21deb7894bcf9d352227c48d6c22",
            "9588e934837d4c79b39098917ec210f3",
            "4fc4f352316a443d8453113f0f237ace",
            "c01c51003b71439fa1fedef34fa49dcb",
            "e9b0d0dd994d488bbeea48426304ff99",
            "3c402f005c904b2fad0b8d564efa242c",
            "8c3245846f9c4395bbb126d8b25cfb09",
            "a05e2909627e4a82ba3dc614a3741157",
            "40727f3fafbd4a4aa4689196edd65403",
            "5224589eabe147de92d9497c7fe50dde"
          ]
        },
        "id": "4GdrMfQxt30g",
        "outputId": "1630c7ad-f7ff-4ddf-bc7d-756783059371"
      },
      "execution_count": null,
      "outputs": [
        {
          "output_type": "display_data",
          "data": {
            "text/plain": [
              "Downloading builder script:   0%|          | 0.00/2.47k [00:00<?, ?B/s]"
            ],
            "application/vnd.jupyter.widget-view+json": {
              "version_major": 2,
              "version_minor": 0,
              "model_id": "3d88ce2e68054a3093f11571adf3bc99"
            }
          },
          "metadata": {}
        },
        {
          "output_type": "stream",
          "name": "stdout",
          "text": [
            "labels:  ['O', 'B-LOC', 'I-LOC', 'I-LOC', 'O', 'B-PER', 'I-PER', 'O', 'B-LOC', 'O', 'O', 'O', 'O', 'O', 'O', 'O', 'O', 'O', 'O', 'O', 'O', 'O', 'O', 'O', 'O']\n"
          ]
        }
      ]
    },
    {
      "cell_type": "code",
      "source": [
        "predictions = labels.copy()\n",
        "predictions[2] = \"O\"\n",
        "print(metric.compute(predictions=[predictions], references=[labels]))"
      ],
      "metadata": {
        "colab": {
          "base_uri": "https://localhost:8080/"
        },
        "id": "mcSOKXJ5uKRn",
        "outputId": "456d2deb-1b48-4e06-9b75-9f20c69d6255"
      },
      "execution_count": null,
      "outputs": [
        {
          "output_type": "stream",
          "name": "stdout",
          "text": [
            "{'LOC': {'precision': 0.3333333333333333, 'recall': 0.5, 'f1': 0.4, 'number': 2}, 'PER': {'precision': 1.0, 'recall': 1.0, 'f1': 1.0, 'number': 1}, 'overall_precision': 0.5, 'overall_recall': 0.6666666666666666, 'overall_f1': 0.5714285714285715, 'overall_accuracy': 0.96}\n"
          ]
        }
      ]
    },
    {
      "cell_type": "code",
      "source": [
        "def compute_metrics(eval_preds):\n",
        "    logits, labels = eval_preds\n",
        "    predictions = np.argmax(logits, axis=-1)\n",
        "\n",
        "    # Remove ignored index (special tokens) and convert to labels\n",
        "    true_labels = [[label_names[l] for l in label if l != -100] for label in labels]\n",
        "    true_predictions = [\n",
        "        [label_names[p] for (p, l) in zip(prediction, label) if l != -100]\n",
        "        for prediction, label in zip(predictions, labels)\n",
        "    ]\n",
        "    all_metrics = metric.compute(predictions=true_predictions, references=true_labels)\n",
        "    return {\n",
        "        \"precision\": all_metrics[\"overall_precision\"],\n",
        "        \"recall\": all_metrics[\"overall_recall\"],\n",
        "        \"f1\": all_metrics[\"overall_f1\"],\n",
        "        \"accuracy\": all_metrics[\"overall_accuracy\"],\n",
        "    }"
      ],
      "metadata": {
        "id": "Ubl8EhBW0Vox"
      },
      "execution_count": null,
      "outputs": []
    },
    {
      "cell_type": "markdown",
      "source": [
        "For prediction"
      ],
      "metadata": {
        "id": "zBslZZkAcPOg"
      }
    },
    {
      "cell_type": "code",
      "source": [
        "from seqeval import metrics\n",
        "print(metrics.classification_report([labels], [predictions]))"
      ],
      "metadata": {
        "colab": {
          "base_uri": "https://localhost:8080/"
        },
        "id": "5FiRw-8Xyq4w",
        "outputId": "ba1fee07-af82-4c81-be2f-f976582281be"
      },
      "execution_count": null,
      "outputs": [
        {
          "output_type": "stream",
          "name": "stdout",
          "text": [
            "              precision    recall  f1-score   support\n",
            "\n",
            "         LOC       0.33      0.50      0.40         2\n",
            "         PER       1.00      1.00      1.00         1\n",
            "\n",
            "   micro avg       0.50      0.67      0.57         3\n",
            "   macro avg       0.67      0.75      0.70         3\n",
            "weighted avg       0.56      0.67      0.60         3\n",
            "\n"
          ]
        }
      ]
    },
    {
      "cell_type": "code",
      "source": [
        "print(sklearn.metrics.classification_report(labels, predictions))"
      ],
      "metadata": {
        "colab": {
          "base_uri": "https://localhost:8080/"
        },
        "id": "exQ_aanUv11s",
        "outputId": "e7a5498e-4d2d-4d47-e37b-b1217a38bf16"
      },
      "execution_count": null,
      "outputs": [
        {
          "output_type": "stream",
          "name": "stdout",
          "text": [
            "              precision    recall  f1-score   support\n",
            "\n",
            "       B-LOC       1.00      1.00      1.00         2\n",
            "       B-PER       1.00      1.00      1.00         1\n",
            "       I-LOC       1.00      0.50      0.67         2\n",
            "       I-PER       1.00      1.00      1.00         1\n",
            "           O       0.95      1.00      0.97        19\n",
            "\n",
            "    accuracy                           0.96        25\n",
            "   macro avg       0.99      0.90      0.93        25\n",
            "weighted avg       0.96      0.96      0.95        25\n",
            "\n"
          ]
        }
      ]
    },
    {
      "cell_type": "markdown",
      "source": [
        "## Implementation 1: Training using Trainer API"
      ],
      "metadata": {
        "id": "8vZLDPewB2Lu"
      }
    },
    {
      "cell_type": "code",
      "source": [
        "model = AutoModelForTokenClassification.from_pretrained(\n",
        "    model_checkpoint,\n",
        "    id2label=id2label,\n",
        "    label2id=label2id,\n",
        ")\n",
        "\n",
        "print(model.config.num_labels)"
      ],
      "metadata": {
        "colab": {
          "base_uri": "https://localhost:8080/"
        },
        "id": "zBGrATSCYRT8",
        "outputId": "bba9c7dd-35a4-4dea-bd72-1e20d3b3779e"
      },
      "execution_count": null,
      "outputs": [
        {
          "output_type": "stream",
          "name": "stderr",
          "text": [
            "loading configuration file https://huggingface.co/mbeukman/xlm-roberta-base-finetuned-ner-amharic/resolve/main/config.json from cache at /root/.cache/huggingface/transformers/927fe1c2ab3d3fb54d2c5aa32f819999b9f7dd5d6c27845c380c40b60f58b3c8.693635a894aa0fd4c5568f38f8383515f592f3150a916279828282a1f701ea12\n",
            "Model config XLMRobertaConfig {\n",
            "  \"_name_or_path\": \"mbeukman/xlm-roberta-base-finetuned-ner-amharic\",\n",
            "  \"architectures\": [\n",
            "    \"XLMRobertaForTokenClassification\"\n",
            "  ],\n",
            "  \"attention_probs_dropout_prob\": 0.1,\n",
            "  \"bos_token_id\": 0,\n",
            "  \"classifier_dropout\": null,\n",
            "  \"eos_token_id\": 2,\n",
            "  \"hidden_act\": \"gelu\",\n",
            "  \"hidden_dropout_prob\": 0.1,\n",
            "  \"hidden_size\": 768,\n",
            "  \"id2label\": {\n",
            "    \"0\": \"O\",\n",
            "    \"1\": \"B-LOC\",\n",
            "    \"2\": \"I-LOC\",\n",
            "    \"3\": \"B-ORG\",\n",
            "    \"4\": \"I-ORG\",\n",
            "    \"5\": \"B-DATE\",\n",
            "    \"6\": \"I-DATE\",\n",
            "    \"7\": \"B-PER\",\n",
            "    \"8\": \"I-PER\"\n",
            "  },\n",
            "  \"initializer_range\": 0.02,\n",
            "  \"intermediate_size\": 3072,\n",
            "  \"label2id\": {\n",
            "    \"B-DATE\": \"5\",\n",
            "    \"B-LOC\": \"1\",\n",
            "    \"B-ORG\": \"3\",\n",
            "    \"B-PER\": \"7\",\n",
            "    \"I-DATE\": \"6\",\n",
            "    \"I-LOC\": \"2\",\n",
            "    \"I-ORG\": \"4\",\n",
            "    \"I-PER\": \"8\",\n",
            "    \"O\": \"0\"\n",
            "  },\n",
            "  \"layer_norm_eps\": 1e-05,\n",
            "  \"max_position_embeddings\": 514,\n",
            "  \"model_type\": \"xlm-roberta\",\n",
            "  \"num_attention_heads\": 12,\n",
            "  \"num_hidden_layers\": 12,\n",
            "  \"output_past\": true,\n",
            "  \"pad_token_id\": 1,\n",
            "  \"position_embedding_type\": \"absolute\",\n",
            "  \"torch_dtype\": \"float32\",\n",
            "  \"transformers_version\": \"4.18.0\",\n",
            "  \"type_vocab_size\": 1,\n",
            "  \"use_cache\": true,\n",
            "  \"vocab_size\": 250002\n",
            "}\n",
            "\n",
            "loading weights file https://huggingface.co/mbeukman/xlm-roberta-base-finetuned-ner-amharic/resolve/main/pytorch_model.bin from cache at /root/.cache/huggingface/transformers/09c6ca2b0258b515d595f6767fe2471ccf0f0d0ce0b0c23398f786783d8bb19e.38d81f801c3207b8862cdfa082defb30132324de6f6764405f1194891be6102f\n",
            "All model checkpoint weights were used when initializing XLMRobertaForTokenClassification.\n",
            "\n",
            "All the weights of XLMRobertaForTokenClassification were initialized from the model checkpoint at mbeukman/xlm-roberta-base-finetuned-ner-amharic.\n",
            "If your task is similar to the task the model of the checkpoint was trained on, you can already use XLMRobertaForTokenClassification for predictions without further training.\n"
          ]
        },
        {
          "output_type": "stream",
          "name": "stdout",
          "text": [
            "9\n"
          ]
        }
      ]
    },
    {
      "cell_type": "markdown",
      "source": [
        "### Training and Evaluation"
      ],
      "metadata": {
        "id": "j7ON210UhTSm"
      }
    },
    {
      "cell_type": "code",
      "source": [
        "args = TrainingArguments(\n",
        "    \"bert-finetuned-ner\",\n",
        "    evaluation_strategy=\"epoch\",\n",
        "    save_strategy=\"no\",\n",
        "    learning_rate=2e-5,\n",
        "    num_train_epochs=5,\n",
        "    weight_decay=0.01,\n",
        "    push_to_hub=False,\n",
        ")\n",
        "\n",
        "trainer = Trainer(\n",
        "    model=model,\n",
        "    args=args,\n",
        "    train_dataset=tokenized_datasets[\"train\"],\n",
        "    eval_dataset=tokenized_datasets[\"dev\"],\n",
        "    data_collator=data_collator,\n",
        "    compute_metrics=compute_metrics,\n",
        "    tokenizer=tokenizer,\n",
        ")\n",
        "training_log = trainer.train()"
      ],
      "metadata": {
        "colab": {
          "base_uri": "https://localhost:8080/",
          "height": 806
        },
        "id": "R3rRE1xibSKG",
        "outputId": "cb83fbcd-8385-46c6-eb49-b5b3667c2d08"
      },
      "execution_count": null,
      "outputs": [
        {
          "output_type": "stream",
          "name": "stderr",
          "text": [
            "PyTorch: setting up devices\n",
            "The default value for the training argument `--report_to` will change in v5 (from all installed integrations to none). In v5, you will need to use `--report_to all` to get the same behavior as now. You should start updating your code and make this info disappear :-).\n",
            "/usr/local/lib/python3.7/dist-packages/transformers/optimization.py:309: FutureWarning: This implementation of AdamW is deprecated and will be removed in a future version. Use the PyTorch implementation torch.optim.AdamW instead, or set `no_deprecation_warning=True` to disable this warning\n",
            "  FutureWarning,\n",
            "***** Running training *****\n",
            "  Num examples = 1702\n",
            "  Num Epochs = 5\n",
            "  Instantaneous batch size per device = 8\n",
            "  Total train batch size (w. parallel, distributed & accumulation) = 8\n",
            "  Gradient Accumulation steps = 1\n",
            "  Total optimization steps = 1065\n"
          ]
        },
        {
          "output_type": "display_data",
          "data": {
            "text/plain": [
              "<IPython.core.display.HTML object>"
            ],
            "text/html": [
              "\n",
              "    <div>\n",
              "      \n",
              "      <progress value='1065' max='1065' style='width:300px; height:20px; vertical-align: middle;'></progress>\n",
              "      [1065/1065 03:28, Epoch 5/5]\n",
              "    </div>\n",
              "    <table border=\"1\" class=\"dataframe\">\n",
              "  <thead>\n",
              " <tr style=\"text-align: left;\">\n",
              "      <th>Epoch</th>\n",
              "      <th>Training Loss</th>\n",
              "      <th>Validation Loss</th>\n",
              "      <th>Precision</th>\n",
              "      <th>Recall</th>\n",
              "      <th>F1</th>\n",
              "      <th>Accuracy</th>\n",
              "    </tr>\n",
              "  </thead>\n",
              "  <tbody>\n",
              "    <tr>\n",
              "      <td>1</td>\n",
              "      <td>No log</td>\n",
              "      <td>0.465520</td>\n",
              "      <td>0.638243</td>\n",
              "      <td>0.753049</td>\n",
              "      <td>0.690909</td>\n",
              "      <td>0.935166</td>\n",
              "    </tr>\n",
              "    <tr>\n",
              "      <td>2</td>\n",
              "      <td>No log</td>\n",
              "      <td>0.465674</td>\n",
              "      <td>0.662953</td>\n",
              "      <td>0.725610</td>\n",
              "      <td>0.692868</td>\n",
              "      <td>0.941370</td>\n",
              "    </tr>\n",
              "    <tr>\n",
              "      <td>3</td>\n",
              "      <td>0.071400</td>\n",
              "      <td>0.441439</td>\n",
              "      <td>0.694444</td>\n",
              "      <td>0.762195</td>\n",
              "      <td>0.726744</td>\n",
              "      <td>0.946114</td>\n",
              "    </tr>\n",
              "    <tr>\n",
              "      <td>4</td>\n",
              "      <td>0.071400</td>\n",
              "      <td>0.480848</td>\n",
              "      <td>0.687324</td>\n",
              "      <td>0.743902</td>\n",
              "      <td>0.714495</td>\n",
              "      <td>0.941126</td>\n",
              "    </tr>\n",
              "    <tr>\n",
              "      <td>5</td>\n",
              "      <td>0.002400</td>\n",
              "      <td>0.483663</td>\n",
              "      <td>0.687151</td>\n",
              "      <td>0.750000</td>\n",
              "      <td>0.717201</td>\n",
              "      <td>0.942586</td>\n",
              "    </tr>\n",
              "  </tbody>\n",
              "</table><p>"
            ]
          },
          "metadata": {}
        },
        {
          "output_type": "stream",
          "name": "stderr",
          "text": [
            "***** Running Evaluation *****\n",
            "  Num examples = 245\n",
            "  Batch size = 8\n",
            "***** Running Evaluation *****\n",
            "  Num examples = 245\n",
            "  Batch size = 8\n",
            "***** Running Evaluation *****\n",
            "  Num examples = 245\n",
            "  Batch size = 8\n",
            "***** Running Evaluation *****\n",
            "  Num examples = 245\n",
            "  Batch size = 8\n",
            "***** Running Evaluation *****\n",
            "  Num examples = 245\n",
            "  Batch size = 8\n",
            "\n",
            "\n",
            "Training completed. Do not forget to share your model on huggingface.co/models =)\n",
            "\n",
            "\n"
          ]
        }
      ]
    },
    {
      "cell_type": "markdown",
      "source": [
        "### Prediction"
      ],
      "metadata": {
        "id": "m1duLV1WhQGG"
      }
    },
    {
      "cell_type": "code",
      "source": [
        "predictions = trainer.predict(tokenized_datasets[\"test\"])"
      ],
      "metadata": {
        "colab": {
          "base_uri": "https://localhost:8080/",
          "height": 90
        },
        "id": "Wpe9DCUHAULm",
        "outputId": "bb239d7e-4043-4a08-ba40-a5b0492a0a19"
      },
      "execution_count": null,
      "outputs": [
        {
          "output_type": "stream",
          "name": "stderr",
          "text": [
            "***** Running Prediction *****\n",
            "  Num examples = 489\n",
            "  Batch size = 8\n"
          ]
        },
        {
          "output_type": "display_data",
          "data": {
            "text/plain": [
              "<IPython.core.display.HTML object>"
            ],
            "text/html": [
              "\n",
              "    <div>\n",
              "      \n",
              "      <progress value='124' max='62' style='width:300px; height:20px; vertical-align: middle;'></progress>\n",
              "      [62/62 06:22]\n",
              "    </div>\n",
              "    "
            ]
          },
          "metadata": {}
        }
      ]
    },
    {
      "cell_type": "code",
      "source": [
        "predictions.metrics"
      ],
      "metadata": {
        "colab": {
          "base_uri": "https://localhost:8080/"
        },
        "id": "6P-0zjhiA2m5",
        "outputId": "13dae11c-afe8-43ad-d0b1-de5314b48d09"
      },
      "execution_count": null,
      "outputs": [
        {
          "output_type": "execute_result",
          "data": {
            "text/plain": [
              "{'test_accuracy': 0.9360296892690905,\n",
              " 'test_f1': 0.6751054852320676,\n",
              " 'test_loss': 0.5242647528648376,\n",
              " 'test_precision': 0.6379585326953748,\n",
              " 'test_recall': 0.7168458781362007,\n",
              " 'test_runtime': 2.3551,\n",
              " 'test_samples_per_second': 207.634,\n",
              " 'test_steps_per_second': 26.326}"
            ]
          },
          "metadata": {},
          "execution_count": 73
        }
      ]
    },
    {
      "cell_type": "code",
      "source": [
        "preds = predictions.predictions.argmax(-1)\n",
        "labels = tokenized_datasets[\"test\"]['labels']"
      ],
      "metadata": {
        "id": "qxM98JjqJew1"
      },
      "execution_count": null,
      "outputs": []
    },
    {
      "cell_type": "code",
      "source": [
        "def postprocess(predictions, labels):\n",
        "\n",
        "    # Remove ignored index (special tokens) and convert to labels\n",
        "    true_labels = [[label_names[l] for l in label if l != -100] for label in labels]\n",
        "    true_predictions = [\n",
        "        [label_names[p] for (p, l) in zip(prediction, label) if l != -100]\n",
        "        for prediction, label in zip(predictions, labels)\n",
        "    ]\n",
        "    return true_labels, true_predictions"
      ],
      "metadata": {
        "id": "tgC1NvejLe93"
      },
      "execution_count": null,
      "outputs": []
    },
    {
      "cell_type": "code",
      "source": [
        "y_true, y_pred = [], []\n",
        "true_predictions, true_labels = postprocess(preds, labels)\n",
        "\n",
        "y_true +=  [tag for entry in true_labels for tag in entry]\n",
        "y_pred +=  [tag for entry in true_predictions for tag in entry]"
      ],
      "metadata": {
        "id": "bW6qg_MTJ3zK"
      },
      "execution_count": null,
      "outputs": []
    },
    {
      "cell_type": "code",
      "source": [
        "print(metrics.classification_report(y_true, y_pred))"
      ],
      "metadata": {
        "colab": {
          "base_uri": "https://localhost:8080/"
        },
        "id": "5irwY36qMKD-",
        "outputId": "2e7b2aa3-dc9c-4155-9768-aefb1666eca1"
      },
      "execution_count": null,
      "outputs": [
        {
          "output_type": "stream",
          "name": "stdout",
          "text": [
            "              precision    recall  f1-score   support\n",
            "\n",
            "      B-DATE       0.86      0.81      0.83       113\n",
            "       B-LOC       0.82      0.79      0.81       235\n",
            "       B-ORG       0.60      0.53      0.56        94\n",
            "       B-PER       0.83      0.82      0.83       144\n",
            "      I-DATE       0.82      0.88      0.85       370\n",
            "       I-LOC       0.84      0.68      0.75       704\n",
            "       I-ORG       0.61      0.56      0.59       430\n",
            "       I-PER       0.86      0.80      0.83       615\n",
            "           O       0.96      0.98      0.97     13193\n",
            "\n",
            "    accuracy                           0.94     15898\n",
            "   macro avg       0.80      0.76      0.78     15898\n",
            "weighted avg       0.93      0.94      0.93     15898\n",
            "\n"
          ]
        }
      ]
    },
    {
      "cell_type": "markdown",
      "source": [
        "## Implementation 2: Training using custom training loop"
      ],
      "metadata": {
        "id": "ipCrJDLPB8Eh"
      }
    },
    {
      "cell_type": "code",
      "source": [
        "train_dataloader = DataLoader(\n",
        "    tokenized_datasets[\"train\"],\n",
        "    shuffle=True,\n",
        "    collate_fn=data_collator,\n",
        "    batch_size=8,\n",
        ")\n",
        "eval_dataloader = DataLoader(\n",
        "    tokenized_datasets[\"dev\"], collate_fn=data_collator, batch_size=8\n",
        ")\n",
        "test_dataloader = DataLoader(\n",
        "    tokenized_datasets[\"test\"], collate_fn=data_collator, batch_size=1\n",
        ")"
      ],
      "metadata": {
        "id": "xHuqjSFV1QM8"
      },
      "execution_count": null,
      "outputs": []
    },
    {
      "cell_type": "code",
      "source": [
        "def postprocess(predictions, labels):\n",
        "    predictions = predictions.detach().cpu().clone().numpy()\n",
        "    labels = labels.detach().cpu().clone().numpy()\n",
        "\n",
        "    # Remove ignored index (special tokens) and convert to labels\n",
        "    true_labels = [[label_names[l] for l in label if l != -100] for label in labels]\n",
        "    true_predictions = [\n",
        "        [label_names[p] for (p, l) in zip(prediction, label) if l != -100]\n",
        "        for prediction, label in zip(predictions, labels)\n",
        "    ]\n",
        "    return true_labels, true_predictions"
      ],
      "metadata": {
        "id": "D6p9N-7018c0"
      },
      "execution_count": null,
      "outputs": []
    },
    {
      "cell_type": "markdown",
      "source": [
        "### Model Initialize"
      ],
      "metadata": {
        "id": "FkoJtdNWryb1"
      }
    },
    {
      "cell_type": "code",
      "source": [
        "model = AutoModelForTokenClassification.from_pretrained(\n",
        "    model_checkpoint,\n",
        "    id2label=id2label,\n",
        "    label2id=label2id,\n",
        ")"
      ],
      "metadata": {
        "id": "3I8dNVe01WSC",
        "colab": {
          "base_uri": "https://localhost:8080/",
          "height": 81,
          "referenced_widgets": [
            "02add50a89f74c42a6ac26ffad5696de",
            "0a823b5bf873467f8daf8c716a35166c",
            "0c2a8d25411f434390e3f5bdb071c130",
            "745571b5eecd4bcfae244bd4db428686",
            "14714b9531b546d1a3bc76020777bf72",
            "5ce5a25244994b33b440a67fdeaf6c8d",
            "d9fba02e38cb4deea253ef06a84b1b64",
            "4777025aef814b9ab46fa00576a4ce57",
            "1fb76bddaea34456a64ba588ef8a6f7a",
            "3abe3ece0fda418285ba08e9366d858b",
            "df2abfecbba34c20b0639f72ac3f86f0",
            "048c71d29c584a80ab6d2c36de12af54",
            "6d77698df512423f88a59c26da8406b5",
            "7b65aa940d8c409897f8ac7c4347b0df",
            "f6b3b6cee7354b8e9420eba96c022941",
            "8fe9ee7d27844b86bac87eb672c1a07b",
            "b1b7bb5cb2094b2ea79d47112dac33b2",
            "19582f3babe145e3841cbde2bfb791cb",
            "35de4bb669444617b2de779c1717cf86",
            "e705827a9dce4e91811a7d619c89826e",
            "411d9129301446e3b9d9ef207ad7f956",
            "656d91059a164ccdbb658797b26120ea"
          ]
        },
        "outputId": "ac7ae819-27f9-4fb5-861a-011329b97adc"
      },
      "execution_count": null,
      "outputs": [
        {
          "output_type": "display_data",
          "data": {
            "text/plain": [
              "Downloading:   0%|          | 0.00/1.04k [00:00<?, ?B/s]"
            ],
            "application/vnd.jupyter.widget-view+json": {
              "version_major": 2,
              "version_minor": 0,
              "model_id": "02add50a89f74c42a6ac26ffad5696de"
            }
          },
          "metadata": {}
        },
        {
          "output_type": "display_data",
          "data": {
            "text/plain": [
              "Downloading:   0%|          | 0.00/1.03G [00:00<?, ?B/s]"
            ],
            "application/vnd.jupyter.widget-view+json": {
              "version_major": 2,
              "version_minor": 0,
              "model_id": "048c71d29c584a80ab6d2c36de12af54"
            }
          },
          "metadata": {}
        }
      ]
    },
    {
      "cell_type": "code",
      "source": [
        "optimizer = AdamW(model.parameters(), lr=2e-5)"
      ],
      "metadata": {
        "id": "tFy1qI6w1dKq"
      },
      "execution_count": null,
      "outputs": []
    },
    {
      "cell_type": "code",
      "source": [
        "accelerator = Accelerator()\n",
        "\n",
        "model, optimizer, train_dataloader, eval_dataloader, test_dataloader = accelerator.prepare(\n",
        "    model, optimizer, train_dataloader, eval_dataloader, test_dataloader\n",
        ")"
      ],
      "metadata": {
        "id": "3tHAmB69Km6g"
      },
      "execution_count": null,
      "outputs": []
    },
    {
      "cell_type": "code",
      "source": [
        "num_train_epochs = 10\n",
        "num_update_steps_per_epoch = len(train_dataloader)\n",
        "num_training_steps = num_train_epochs * num_update_steps_per_epoch\n",
        "\n",
        "lr_scheduler = get_scheduler(\n",
        "    \"linear\",\n",
        "    optimizer=optimizer,\n",
        "    num_warmup_steps=0,\n",
        "    num_training_steps=num_training_steps,\n",
        ")"
      ],
      "metadata": {
        "id": "nkgJqd5r1mXy"
      },
      "execution_count": null,
      "outputs": []
    },
    {
      "cell_type": "markdown",
      "source": [
        "### Training and Evaluation"
      ],
      "metadata": {
        "id": "FWqRSa81r11f"
      }
    },
    {
      "cell_type": "code",
      "source": [
        "train_losses, result_list = [], []\n",
        "progress_bar = tqdm(range(num_training_steps))\n",
        "\n",
        "for epoch in range(num_train_epochs):\n",
        "    # Training\n",
        "    model.train()\n",
        "    for batch in train_dataloader:\n",
        "        outputs = model(**batch)\n",
        "        loss = outputs.loss\n",
        "        train_losses.append(loss)\n",
        "        accelerator.backward(loss)\n",
        "\n",
        "        optimizer.step()\n",
        "        lr_scheduler.step()\n",
        "        optimizer.zero_grad()\n",
        "        progress_bar.update(1)\n",
        "\n",
        "    # Evaluation\n",
        "    model.eval()\n",
        "    loss = 0\n",
        "    for batch in eval_dataloader:\n",
        "        with torch.no_grad():\n",
        "            outputs = model(**batch)\n",
        "            loss += outputs.loss\n",
        "        \n",
        "        predictions = outputs.logits.argmax(dim=-1)\n",
        "        labels = batch[\"labels\"]\n",
        "\n",
        "        # Necessary to pad predictions and labels for being gathered\n",
        "        predictions = accelerator.pad_across_processes(predictions, dim=1, pad_index=-100)\n",
        "        labels = accelerator.pad_across_processes(labels, dim=1, pad_index=-100)\n",
        "\n",
        "        predictions_gathered = accelerator.gather(predictions)\n",
        "        labels_gathered = accelerator.gather(labels)\n",
        "\n",
        "        true_predictions, true_labels = postprocess(predictions_gathered, labels_gathered)\n",
        "        metric.add_batch(predictions=true_predictions, references=true_labels)\n",
        "    \n",
        "\n",
        "    results = metric.compute()\n",
        "    result_list.append(results)\n",
        "    print(\n",
        "        f\"epoch {epoch}:\",\n",
        "        {\n",
        "            key: results[f\"overall_{key}\"]\n",
        "            for key in [\"precision\", \"recall\", \"f1\", \"accuracy\"]\n",
        "        },\n",
        "    )"
      ],
      "metadata": {
        "colab": {
          "base_uri": "https://localhost:8080/",
          "height": 227,
          "referenced_widgets": [
            "2ceacc83e0314feaac082ff8dd9c0842",
            "e0140687904a46748a1c6f90001920ce",
            "8b735569cba142098ae627f2995c86c8",
            "8a3fe8bbbf984f4eadfd165b68e6ff5f",
            "8a9570ebc4e44fe7a180742d01d6f0f4",
            "6bf781b41a214532a44f596b1b9249a6",
            "973d40f91f9640849e916c10f291b416",
            "632bf5cbbede4b509bc3119e8fb4d2b0",
            "fa154bb04e564e1ba2123130da147520",
            "8db629e5da144651a7a18958930b4a80",
            "8870776f58c848269d9fdd53876125c4"
          ]
        },
        "id": "TUkUd1Gvad7g",
        "outputId": "6e56bf5d-493a-4dac-9f1b-ae8283712d5e"
      },
      "execution_count": null,
      "outputs": [
        {
          "data": {
            "application/vnd.jupyter.widget-view+json": {
              "model_id": "2ceacc83e0314feaac082ff8dd9c0842",
              "version_major": 2,
              "version_minor": 0
            },
            "text/plain": [
              "  0%|          | 0/3790 [00:00<?, ?it/s]"
            ]
          },
          "metadata": {},
          "output_type": "display_data"
        },
        {
          "output_type": "stream",
          "name": "stdout",
          "text": [
            "epoch 0: {'precision': 0.6325724319578577, 'recall': 0.6508581752484192, 'f1': 0.6415850400712377, 'accuracy': 0.8874156958920908}\n",
            "epoch 1: {'precision': 0.7449517120280948, 'recall': 0.6949221949221949, 'f1': 0.7190677966101695, 'accuracy': 0.9051961986511343}\n",
            "epoch 2: {'precision': 0.7497805092186128, 'recall': 0.7799086757990867, 'f1': 0.7645478961504029, 'accuracy': 0.9208307786633967}\n",
            "epoch 3: {'precision': 0.810359964881475, 'recall': 0.7637567232105916, 'f1': 0.7863684771033014, 'accuracy': 0.9214438994481913}\n",
            "epoch 4: {'precision': 0.8314310798946444, 'recall': 0.7557861133280128, 'f1': 0.7918060200668896, 'accuracy': 0.9215971796443899}\n",
            "epoch 5: {'precision': 0.8446005267778753, 'recall': 0.7173750932140194, 'f1': 0.7758064516129033, 'accuracy': 0.9143930104230533}\n",
            "epoch 6: {'precision': 0.8331870061457419, 'recall': 0.7862468931234465, 'f1': 0.8090366581415175, 'accuracy': 0.930793991416309}\n",
            "epoch 7: {'precision': 0.8292361720807726, 'recall': 0.7799339388934765, 'f1': 0.8038297872340426, 'accuracy': 0.9288779889638259}\n",
            "epoch 8: {'precision': 0.8266022827041264, 'recall': 0.7868783953196824, 'f1': 0.8062513380432456, 'accuracy': 0.9293378295524218}\n",
            "epoch 9: {'precision': 0.8336259877085163, 'recall': 0.7821252059308073, 'f1': 0.8070548236294093, 'accuracy': 0.9287247087676272}\n"
          ]
        }
      ]
    },
    {
      "cell_type": "markdown",
      "source": [
        "### Save/Load Model"
      ],
      "metadata": {
        "id": "gOyTioqa5kk4"
      }
    },
    {
      "cell_type": "code",
      "source": [
        "# Save\n",
        "model.save_pretrained('./Amharic NER/finetuned_XLM_Roberta/')"
      ],
      "metadata": {
        "id": "lwB_-F8HwnW4"
      },
      "execution_count": null,
      "outputs": []
    },
    {
      "cell_type": "code",
      "source": [
        "# Load\n",
        "model = AutoModelForTokenClassification.from_pretrained('./Amharic NER/finetuned_XLM_Roberta/')"
      ],
      "metadata": {
        "id": "tMQVh0Eq64XC"
      },
      "execution_count": null,
      "outputs": []
    },
    {
      "cell_type": "markdown",
      "source": [
        "### Prediction"
      ],
      "metadata": {
        "id": "huRx_Ly_r4nt"
      }
    },
    {
      "cell_type": "markdown",
      "source": [
        "#### Single Instance"
      ],
      "metadata": {
        "id": "5tXP3bv5MjTv"
      }
    },
    {
      "cell_type": "code",
      "source": [
        "test_instance = next(iter(test_dataloader))\n",
        "while True:\n",
        "  instance = next(iter(test_dataloader))\n",
        "  unique_labels = set(instance['labels'].tolist()[0])\n",
        "  if len(unique_labels) > 4:\n",
        "    test_instance = instance\n",
        "    break\n",
        "\n",
        "outputs = model(**test_instance)"
      ],
      "metadata": {
        "id": "zbqJ7EwCFFH3"
      },
      "execution_count": null,
      "outputs": []
    },
    {
      "cell_type": "code",
      "source": [
        "predictions = outputs.logits.argmax(dim=-1)\n",
        "labels = test_instance[\"labels\"]\n",
        "\n",
        "# Necessary to pad predictions and labels for being gathered\n",
        "predictions = accelerator.pad_across_processes(predictions, dim=1, pad_index=-100)\n",
        "labels = accelerator.pad_across_processes(labels, dim=1, pad_index=-100)\n",
        "\n",
        "predictions_gathered = accelerator.gather(predictions)\n",
        "labels_gathered = accelerator.gather(labels)\n",
        "\n",
        "true_predictions, true_labels = postprocess(predictions_gathered, labels_gathered)"
      ],
      "metadata": {
        "id": "AbSMVcJFK3Yv"
      },
      "execution_count": null,
      "outputs": []
    },
    {
      "cell_type": "code",
      "source": [
        "for i, j, k in zip(test_instance['input_ids'].tolist()[0], true_predictions[0], true_labels[0]):\n",
        "  print(f'{tokenizer.decode(i)}\\t\\t{j}\\t\\t{k}')"
      ],
      "metadata": {
        "colab": {
          "base_uri": "https://localhost:8080/"
        },
        "id": "VdBpPYBJIyiK",
        "outputId": "d50ba1fd-dcd9-41f0-dc04-dc385020c407"
      },
      "execution_count": null,
      "outputs": [
        {
          "output_type": "stream",
          "name": "stdout",
          "text": [
            "<s>\t\tO\t\tO\n",
            "ኣብ\t\tO\t\tB-DATE\n",
            "እ\t\tO\t\tB-DATE\n",
            "ዋን\t\tO\t\tO\n",
            "ም\t\tO\t\tO\n",
            "ም\t\tO\t\tO\n",
            "ሕ\t\tO\t\tO\n",
            "ዳር\t\tB-PER\t\tB-PER\n",
            "\t\tB-PER\t\tB-PER\n",
            "በራ\t\tB-PER\t\tB-PER\n",
            "ክ\t\tI-PER\t\tI-PER\n",
            "ኦ\t\tB-DATE\t\tB-DATE\n",
            "ባ\t\tB-DATE\t\tB-DATE\n",
            "ማ\t\tO\t\tO\n",
            "ኣብ\t\tO\t\tO\n",
            "ጉዳ\t\tO\t\tO\n",
            "ያት\t\tO\t\tO\n",
            "ፖሊሲ\t\tO\t\tO\n",
            "ወ\t\tO\t\tO\n",
            "ጻ\t\tO\t\tO\n",
            "ኢ\t\tO\t\tO\n",
            "ዝ\t\tO\t\tO\n",
            "ነ\t\tO\t\tO\n",
            "ጠ\t\tO\t\tO\n",
            "ፉ\t\tB-PER\t\tB-PER\n",
            "\t\tB-PER\t\tB-PER\n",
            "ቤ\t\tB-PER\t\tB-PER\n",
            "ን\t\tI-PER\t\tI-PER\n",
            "\t\tB-DATE\t\tB-DATE\n",
            "ሮ\t\tB-DATE\t\tB-DATE\n",
            "ድ\t\tO\t\tO\n",
            "ብ\t\tO\t\tO\n",
            "ወ\t\tO\t\tO\n",
            "ገ\t\tO\t\tO\n",
            "ኖ\t\tO\t\tO\n",
            "ም\t\tO\t\tO\n",
            "ኣብ\t\tB-LOC\t\tB-LOC\n",
            "ኢትዮጵያ\t\tO\t\tO\n"
          ]
        }
      ]
    },
    {
      "cell_type": "markdown",
      "source": [
        "#### All Instances"
      ],
      "metadata": {
        "id": "ZNaNIDKgMnAP"
      }
    },
    {
      "cell_type": "code",
      "source": [
        "# Prediction\n",
        "\n",
        "y_true = []\n",
        "y_pred = []\n",
        "\n",
        "model.eval()\n",
        "for batch in test_dataloader:\n",
        "\n",
        "  with torch.no_grad():\n",
        "    outputs = model(**batch)\n",
        "\n",
        "  predictions = outputs.logits.argmax(dim=-1)\n",
        "  labels = batch[\"labels\"]\n",
        "\n",
        "  # Necessary to pad predictions and labels for being gathered\n",
        "  predictions = accelerator.pad_across_processes(predictions, dim=1, pad_index=-100)\n",
        "  labels = accelerator.pad_across_processes(labels, dim=1, pad_index=-100)\n",
        "\n",
        "  predictions_gathered = accelerator.gather(predictions)\n",
        "  labels_gathered = accelerator.gather(labels)\n",
        "\n",
        "  true_predictions, true_labels = postprocess(predictions_gathered, labels_gathered)\n",
        "\n",
        "  y_true +=  [tag for entry in true_labels for tag in entry]\n",
        "  y_pred +=  [tag for entry in true_predictions for tag in entry]"
      ],
      "metadata": {
        "id": "gyTAMn9SierQ"
      },
      "execution_count": null,
      "outputs": []
    },
    {
      "cell_type": "markdown",
      "source": [
        "### Result Analysis"
      ],
      "metadata": {
        "id": "Kv1R9pLohIXa"
      }
    },
    {
      "cell_type": "markdown",
      "source": [
        "#### Confusion Matrix"
      ],
      "metadata": {
        "id": "ddskF-1r-rgr"
      }
    },
    {
      "cell_type": "code",
      "source": [
        "from sklearn.metrics import confusion_matrix, ConfusionMatrixDisplay"
      ],
      "metadata": {
        "id": "WFFpB5qt7Lma"
      },
      "execution_count": null,
      "outputs": []
    },
    {
      "cell_type": "code",
      "source": [
        "cm = confusion_matrix(y_true, y_pred, labels=label_names)"
      ],
      "metadata": {
        "id": "I9ZOYn2I8xfJ"
      },
      "execution_count": null,
      "outputs": []
    },
    {
      "cell_type": "code",
      "source": [
        "fig, ax = plt.subplots(figsize=(15, 15))\n",
        "disp = ConfusionMatrixDisplay.from_predictions(y_true, y_pred, ax=ax, cmap='cividis', normalize='all')\n",
        "plt.show()"
      ],
      "metadata": {
        "colab": {
          "base_uri": "https://localhost:8080/",
          "height": 852
        },
        "id": "PFWGpEWw7Q2_",
        "outputId": "b2b2b991-b4a0-4b9b-9391-f84c54a1c9a6"
      },
      "execution_count": null,
      "outputs": [
        {
          "output_type": "display_data",
          "data": {
            "text/plain": [
              "<Figure size 1080x1080 with 2 Axes>"
            ],
            "image/png": "[encoded data removed]"
          },
          "metadata": {}
        }
      ]
    },
    {
      "cell_type": "code",
      "source": [
        "cm"
      ],
      "metadata": {
        "colab": {
          "base_uri": "https://localhost:8080/"
        },
        "id": "n1xyn3uK78Y2",
        "outputId": "961f6be5-1f1a-4130-b4b0-ea3fc9a8fec7"
      },
      "execution_count": null,
      "outputs": [
        {
          "output_type": "execute_result",
          "data": {
            "text/plain": [
              "array([[9960,   12,   63,   11,   57,    5,   72,    9,  106],\n",
              "       [  28,  123,    1,    0,    0,    0,    1,    1,    2],\n",
              "       [  48,    3,  558,    2,    5,    1,   32,    0,   25],\n",
              "       [   3,    0,    2,   54,    0,    0,    0,    1,    3],\n",
              "       [ 131,    0,    6,    0,  317,    4,    0,    0,   14],\n",
              "       [  26,    0,    1,    1,    8,   58,    0,    0,    0],\n",
              "       [ 101,    2,   12,    0,    9,    0,  246,    0,   16],\n",
              "       [  12,    7,    0,    0,    0,    0,    0,   36,    0],\n",
              "       [  84,    8,   25,    2,    3,    0,    8,    4,  295]])"
            ]
          },
          "metadata": {},
          "execution_count": 60
        }
      ]
    },
    {
      "cell_type": "markdown",
      "source": [
        "#### Classification report"
      ],
      "metadata": {
        "id": "BNYdfuyc-u9h"
      }
    },
    {
      "cell_type": "code",
      "source": [
        "print(metrics.classification_report([y_true], [y_pred]))"
      ],
      "metadata": {
        "colab": {
          "base_uri": "https://localhost:8080/"
        },
        "id": "UZhF9-or_-rt",
        "outputId": "954c1b0c-9ef2-41bc-b9c6-cd37faeb331d"
      },
      "execution_count": null,
      "outputs": [
        {
          "output_type": "stream",
          "name": "stdout",
          "text": [
            "              precision    recall  f1-score   support\n",
            "\n",
            "        DATE       0.78      0.65      0.71       488\n",
            "         LOC       0.81      0.79      0.80       196\n",
            "         ORG       0.66      0.60      0.63       446\n",
            "         PER       0.82      0.82      0.82       680\n",
            "\n",
            "   micro avg       0.77      0.72      0.74      1810\n",
            "   macro avg       0.77      0.71      0.74      1810\n",
            "weighted avg       0.77      0.72      0.74      1810\n",
            "\n"
          ]
        }
      ]
    },
    {
      "cell_type": "code",
      "source": [
        "print(sklearn.metrics.classification_report(y_true, y_pred))"
      ],
      "metadata": {
        "colab": {
          "base_uri": "https://localhost:8080/"
        },
        "id": "xISJ-TWJ-R56",
        "outputId": "e44010ac-4186-49ed-cdbc-42f6dca1346a"
      },
      "execution_count": null,
      "outputs": [
        {
          "output_type": "stream",
          "name": "stdout",
          "text": [
            "              precision    recall  f1-score   support\n",
            "\n",
            "      B-DATE       0.79      0.67      0.73       472\n",
            "       B-LOC       0.79      0.79      0.79       156\n",
            "       B-ORG       0.69      0.64      0.66       386\n",
            "       B-PER       0.84      0.83      0.83       674\n",
            "      I-DATE       0.85      0.62      0.72        94\n",
            "       I-LOC       0.71      0.65      0.68        55\n",
            "       I-ORG       0.64      0.69      0.66       429\n",
            "       I-PER       0.77      0.86      0.81        63\n",
            "           O       0.96      0.97      0.96     10295\n",
            "\n",
            "    accuracy                           0.92     12624\n",
            "   macro avg       0.78      0.75      0.76     12624\n",
            "weighted avg       0.92      0.92      0.92     12624\n",
            "\n"
          ]
        }
      ]
    },
    {
      "cell_type": "markdown",
      "source": [
        "#### Plots"
      ],
      "metadata": {
        "id": "xwdWCYPf-0QW"
      }
    },
    {
      "cell_type": "code",
      "source": [
        "loss_history = [loss.detach().cpu().clone().numpy() for loss in train_losses]"
      ],
      "metadata": {
        "id": "8ceN8w5eNeBC"
      },
      "execution_count": null,
      "outputs": []
    },
    {
      "cell_type": "code",
      "source": [
        "def plot_graph(value_list, title, x_label, y_label):\n",
        "  plt.plot(value_list)\n",
        "  plt.title(title)\n",
        "  plt.xlabel(x_label)\n",
        "  plt.ylabel(y_label)\n",
        "  plt.show()"
      ],
      "metadata": {
        "id": "-f6GnXg5M736"
      },
      "execution_count": null,
      "outputs": []
    },
    {
      "cell_type": "code",
      "source": [
        "plot_graph(loss_history, 'Model Loss', 'Training steps', 'Loss')"
      ],
      "metadata": {
        "colab": {
          "base_uri": "https://localhost:8080/",
          "height": 299
        },
        "id": "dOhrFSUxnL_z",
        "outputId": "fce3c519-2a7f-435f-c7fe-644216fe32cf"
      },
      "execution_count": null,
      "outputs": [
        {
          "output_type": "display_data",
          "data": {
            "text/plain": [
              "<Figure size 432x288 with 1 Axes>"
            ],
            "image/png": "[encoded data removed]"
          },
          "metadata": {}
        }
      ]
    },
    {
      "cell_type": "code",
      "source": [
        "plot_graph(list(map(lambda x: x['overall_precision'], result_list)), 'Model Precision', 'Epochs', 'Precision')"
      ],
      "metadata": {
        "colab": {
          "base_uri": "https://localhost:8080/",
          "height": 299
        },
        "id": "uaNEWqTPndey",
        "outputId": "5679fa2a-1a4d-488f-b93b-a02c4c2974c5"
      },
      "execution_count": null,
      "outputs": [
        {
          "output_type": "display_data",
          "data": {
            "text/plain": [
              "<Figure size 432x288 with 1 Axes>"
            ],
            "image/png": "[encoded data removed]"
          },
          "metadata": {}
        }
      ]
    },
    {
      "cell_type": "code",
      "source": [
        "plot_graph(list(map(lambda x: x['overall_recall'], result_list)), 'Model Recall', 'Epochs', 'Recall')"
      ],
      "metadata": {
        "colab": {
          "base_uri": "https://localhost:8080/",
          "height": 299
        },
        "id": "uB0Y4AgEnkTL",
        "outputId": "60654779-a25c-4ad4-cf5b-6019279b7031"
      },
      "execution_count": null,
      "outputs": [
        {
          "output_type": "display_data",
          "data": {
            "text/plain": [
              "<Figure size 432x288 with 1 Axes>"
            ],
            "image/png": "[encoded data removed]"
          },
          "metadata": {}
        }
      ]
    },
    {
      "cell_type": "code",
      "source": [
        "plot_graph(list(map(lambda x: x['overall_f1'], result_list)), 'Model F1', 'Epochs', 'F1')"
      ],
      "metadata": {
        "colab": {
          "base_uri": "https://localhost:8080/",
          "height": 299
        },
        "id": "lPIix3Nynkz5",
        "outputId": "0119c51f-cd5f-4e00-99fb-87cae74d3dad"
      },
      "execution_count": null,
      "outputs": [
        {
          "output_type": "display_data",
          "data": {
            "text/plain": [
              "<Figure size 432x288 with 1 Axes>"
            ],
            "image/png": "[encoded data removed]"
          },
          "metadata": {}
        }
      ]
    },
    {
      "cell_type": "code",
      "source": [
        "plot_graph(list(map(lambda x: x['overall_accuracy'], result_list)), 'Model Accuracy', 'Epochs', 'Accuracy')"
      ],
      "metadata": {
        "colab": {
          "base_uri": "https://localhost:8080/",
          "height": 299
        },
        "id": "790U3cIRnlm1",
        "outputId": "8c3a4dd0-85db-405c-fafc-272a17e5866c"
      },
      "execution_count": null,
      "outputs": [
        {
          "output_type": "display_data",
          "data": {
            "text/plain": [
              "<Figure size 432x288 with 1 Axes>"
            ],
            "image/png": "[encoded data removed]"
          },
          "metadata": {}
        }
      ]
    }
  ]
}
